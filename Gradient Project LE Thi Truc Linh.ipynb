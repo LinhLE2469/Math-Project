{
 "cells": [
  {
   "cell_type": "code",
   "execution_count": 1,
   "id": "6100836c",
   "metadata": {},
   "outputs": [
    {
     "name": "stdout",
     "output_type": "stream",
     "text": [
      "Enter the coordinates x : 2.5\n",
      "Enter the coordinates y: -1\n",
      "your point is: 2.5 -1.0\n",
      "The gradient of the function f(x,y)=x**2*y-x*y**2 at point(2.5, -1.0) is [-6.0, 11.25]\n"
     ]
    }
   ],
   "source": [
    "\n",
    "while True:\n",
    "    try:\n",
    "        x = float(input('Enter the coordinates x : '))\n",
    "        y = float(input('Enter the coordinates y: '))\n",
    "        print(\"your point is:\",x,y)\n",
    "        break\n",
    "    \n",
    "    except ValueError:\n",
    "        print('Invalid Input! The gradient cannot be computed.')\n",
    "\n",
    "def f_prime_x(x,y):\n",
    "    return (2*x*y-y**2)\n",
    "# print(f_prime_x(x,y))\n",
    "def f_prime_y(x,y):\n",
    "    return (x**2-2*x*y)\n",
    "# print(f_prime_y(x,y))\n",
    "\n",
    "def Gradient(x,y):\n",
    "    Grad=[]\n",
    "    Grad.append(x)\n",
    "    Grad.append(y)\n",
    "    return Grad\n",
    "\n",
    "print(f\"The gradient of the function f(x,y)=x**2*y-x*y**2 at point{x,y} is\",Gradient(f_prime_x(x,y),f_prime_y(x,y)))\n",
    "\n",
    "\n",
    "\n",
    "\n",
    "    \n",
    "\n"
   ]
  },
  {
   "cell_type": "code",
   "execution_count": 17,
   "id": "fe145f6d",
   "metadata": {},
   "outputs": [
    {
     "name": "stdout",
     "output_type": "stream",
     "text": [
      "Enter a number of x: 1\n",
      "Enter a number of y: 2\n",
      "your point is: 1.0 2.0\n",
      "Gradient of function at (x, y) is  [ 0. -3.]\n"
     ]
    }
   ],
   "source": [
    "# Using Library import numdifftools as nd\n",
    "\n",
    "import numpy as np\n",
    "import numdifftools as nd\n",
    "\n",
    "while True:\n",
    "    try:\n",
    "        x = float(input('Enter a number of x: '))\n",
    "        y = float(input('Enter a number of y: '))\n",
    "        print(\"your point is:\",x,y)\n",
    "        break\n",
    "    \n",
    "    except ValueError:\n",
    "        print('Invalid Input. Try again.')\n",
    "        \n",
    "def f(x): \n",
    "    return (x[0]**2*x[1] - x[0]*x[1]**2)\n",
    "  \n",
    "grad = nd.Gradient(f)([x, y])\n",
    "print(\"Gradient of function at (x, y) is \", grad)\n"
   ]
  },
  {
   "cell_type": "code",
   "execution_count": null,
   "id": "4e144e18",
   "metadata": {},
   "outputs": [],
   "source": []
  }
 ],
 "metadata": {
  "kernelspec": {
   "display_name": "Python 3",
   "language": "python",
   "name": "python3"
  },
  "language_info": {
   "codemirror_mode": {
    "name": "ipython",
    "version": 3
   },
   "file_extension": ".py",
   "mimetype": "text/x-python",
   "name": "python",
   "nbconvert_exporter": "python",
   "pygments_lexer": "ipython3",
   "version": "3.8.8"
  }
 },
 "nbformat": 4,
 "nbformat_minor": 5
}
